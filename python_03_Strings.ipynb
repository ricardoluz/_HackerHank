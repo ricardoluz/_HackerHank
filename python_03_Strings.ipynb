{
 "cells": [
  {
   "cell_type": "markdown",
   "metadata": {},
   "source": [
    "# sWAP cASE"
   ]
  },
  {
   "cell_type": "code",
   "execution_count": 9,
   "metadata": {},
   "outputs": [
    {
     "name": "stdout",
     "output_type": "stream",
     "text": [
      "wWW.hACKERrANK.COM 2\n"
     ]
    }
   ],
   "source": [
    "def swap_case(s):\n",
    "    # frase = list(s)\n",
    "    # for i in range(len(frase)):\n",
    "    #     if frase[i].isalpha():\n",
    "    #         frase[i] = frase[i].lower() if frase[i].isupper()==True else frase[i].upper()\n",
    "    \n",
    "    # return frase\n",
    "    return s.swapcase()\n",
    "\n",
    "\n",
    "frase = 'Www.HackerRank.com 2'\n",
    "print(swap_case(frase))"
   ]
  },
  {
   "cell_type": "markdown",
   "metadata": {},
   "source": [
    "# String Split and Join"
   ]
  },
  {
   "cell_type": "code",
   "execution_count": 16,
   "metadata": {},
   "outputs": [
    {
     "name": "stdout",
     "output_type": "stream",
     "text": [
      "this-is-a-string\n"
     ]
    }
   ],
   "source": [
    "def split_and_join(line):\n",
    "        \n",
    "\n",
    "frase = \"this is a string\"\n",
    "print(split_and_join(frase))"
   ]
  },
  {
   "cell_type": "markdown",
   "metadata": {},
   "source": [
    "# Mutate String"
   ]
  },
  {
   "cell_type": "code",
   "execution_count": null,
   "metadata": {},
   "outputs": [],
   "source": [
    "def mutate_string(string, position, character):\n",
    "    tmp = string\n",
    "    if position < len(string) and position>=0:\n",
    "        tmp = string[:position] + character \n",
    "        tmp = tmp if position==len(string) else tmp + string[position+1:]\n",
    "    return tmp"
   ]
  },
  {
   "cell_type": "markdown",
   "metadata": {},
   "source": [
    "# Find a string"
   ]
  },
  {
   "cell_type": "code",
   "execution_count": 39,
   "metadata": {},
   "outputs": [
    {
     "name": "stdout",
     "output_type": "stream",
     "text": [
      "c 2\n",
      "c 0\n",
      "c 2\n",
      "c 0\n"
     ]
    }
   ],
   "source": [
    "def count_substring(string, sub_string):\n",
    "    contador = 0\n",
    "    posicao = string.find(sub_string)\n",
    "    while posicao >= 0 and posicao<=len(string)-1:\n",
    "        contador += 1\n",
    "        posicao = string.find(sub_string, posicao+1)\n",
    "\n",
    "    return contador\n",
    "\n",
    "print('c', count_substring('z       z','z'))\n",
    "print('c', count_substring('z       z','x'))\n",
    "print('c', count_substring('ABCDCDC','CDC'))\n",
    "print('c', count_substring('ABCDCDC','cdc'))"
   ]
  },
  {
   "cell_type": "markdown",
   "metadata": {},
   "source": [
    "\n",
    "In the first line, print True if  has any alphanumeric characters. Otherwise, print False.\n",
    "\n",
    "In the second line, print True if  has any alphabetical characters. Otherwise, print False.\n",
    "\n",
    "In the third line, print True if  has any digits. Otherwise, print False.\n",
    "\n",
    "In the fourth line, print True if  has any lowercase characters. Otherwise, print False.\n",
    "\n",
    "In the fifth line, print True if  has any uppercase characters. Otherwise, print False."
   ]
  },
  {
   "cell_type": "code",
   "execution_count": 56,
   "metadata": {},
   "outputs": [
    {
     "name": "stdout",
     "output_type": "stream",
     "text": [
      "True\n",
      "True\n",
      "True\n",
      "True\n",
      "False\n"
     ]
    }
   ],
   "source": [
    "\n",
    "s = '1aaaaaaaaaaaaaaaaaaaaaaaaaaaaaaaaaaaaaaaaaaaaaaa1aaaaaaaaaaaaaaaaaaaa'\n",
    "\n",
    "print (any([item.isalnum() for item in s]))\n",
    "print (any([item.isalpha() for item in s]))\n",
    "print (any([item.isdigit() for item in s]))\n",
    "print (any([item.isalpha() and item.islower() for item in s]))\n",
    "print (any([item.isalpha() and item.isupper() for item in s]))\n",
    "\n"
   ]
  },
  {
   "cell_type": "markdown",
   "metadata": {},
   "source": [
    "# Text Alignment"
   ]
  },
  {
   "cell_type": "code",
   "execution_count": null,
   "metadata": {},
   "outputs": [],
   "source": [
    "thickness = 7 #int(input()) #This must be an odd number\n",
    "c = 'H'\n",
    "\n",
    "#Top Cone\n",
    "for i in range(thickness):\n",
    "    print((c*i).rjust(thickness-1,' ')+c+(c*i).ljust(thickness-1,' '))\n",
    "\n",
    "#Top Pillars\n",
    "for i in range(thickness+1):\n",
    "    print((c*thickness).center(thickness*2,' ')+(c*thickness).center(thickness*6,' '))\n",
    "\n",
    "# #Middle Belt\n",
    "for i in range((thickness+1)//2):\n",
    "    print((c*thickness*5).center(thickness*6,' '))\n",
    "\n",
    "#Bottom Pillars\n",
    "for i in range(thickness+1):\n",
    "    print((c*thickness).center(thickness*2,' ')+(c*thickness).center(thickness*6,' '))    \n",
    "\n",
    "#Bottom Cone\n",
    "for i in range(thickness):\n",
    "    print(((c*(thickness-i-1)).rjust(thickness,' ')+c+(c*(thickness-i-1)).ljust(thickness,' ')).rjust(thickness*6))\n"
   ]
  },
  {
   "cell_type": "markdown",
   "metadata": {},
   "source": []
  },
  {
   "cell_type": "code",
   "execution_count": 205,
   "metadata": {},
   "outputs": [
    {
     "name": "stdout",
     "output_type": "stream",
     "text": [
      "ABCDEFGHz\n",
      "a\n",
      "--------------------------------------------------\n"
     ]
    }
   ],
   "source": [
    "def wrap(string, max_width):\n",
    "    \n",
    "        string_lista = list(string)\n",
    "        string_retorno = []\n",
    "\n",
    "        for i in range(len(string)):\n",
    "            string_retorno.append(string_lista[i])\n",
    "            if (i+1) % max_width == 0:\n",
    "                if i+1 != len(string):\n",
    "                    string_retorno.append('\\n')\n",
    "\n",
    "        return \"\".join(string_retorno)\n",
    "\n",
    "string = 'ABCDEFGHIJKLIMNOQRSTUVWXYZaa1dddssssssssqqqqss'\n",
    "string = 'ABCDEFGHza'\n",
    "max_width = 9\n",
    "\n",
    "result = wrap(string, max_width)\n",
    "print(result)\n",
    "print('-'*50)"
   ]
  },
  {
   "cell_type": "markdown",
   "metadata": {},
   "source": [
    "# String Formatting"
   ]
  },
  {
   "cell_type": "code",
   "execution_count": 5,
   "metadata": {},
   "outputs": [
    {
     "name": "stdout",
     "output_type": "stream",
     "text": [
      "    1     1     1     1\n",
      "    2     2     2    10\n",
      "    3     3     3    11\n",
      "    4     4     4   100\n",
      "    5     5     5   101\n",
      "    6     6     6   110\n",
      "    7     7     7   111\n",
      "    8    10     8  1000\n",
      "    9    11     9  1001\n",
      "   10    12     A  1010\n",
      "   11    13     B  1011\n",
      "   12    14     C  1100\n",
      "   13    15     D  1101\n",
      "   14    16     E  1110\n",
      "   15    17     F  1111\n",
      "   16    20    10 10000\n",
      "   17    21    11 10001\n"
     ]
    }
   ],
   "source": [
    "def print_formatted(number):\n",
    "    tamanho = len(f\"{number:b}\")\n",
    "    \n",
    "    string_format = \"\"\n",
    "    for formas in \"doXb\":\n",
    "        string_format += \"{:>\" + str(tamanho) + formas + \"} \"\n",
    "    string_format = string_format.strip()\n",
    "\n",
    "    for i in range(number):\n",
    "        print(string_format.format(i+1, i+1, i+1, i+1))\n",
    "        \n",
    "n = 17\n",
    "print_formatted(n)"
   ]
  },
  {
   "cell_type": "markdown",
   "metadata": {},
   "source": [
    "# Capitalize!"
   ]
  },
  {
   "cell_type": "code",
   "execution_count": 2,
   "metadata": {},
   "outputs": [
    {
     "name": "stdout",
     "output_type": "stream",
     "text": [
      "' 1aa   aa a   zzzz 1a  A    a'\n",
      "' 1aa   Aa A   Zzzz 1a  A    A'\n"
     ]
    }
   ],
   "source": [
    "def solve(s) ->str:\n",
    "    string = list(s)\n",
    "    string_retorno = string[0].upper() if string[0].isalpha() else string[0]\n",
    "    for i in range(1,len(string)):\n",
    "        if string[i-1] == \" \" and str(string[i]).isalpha():\n",
    "            string[i] = string[i].upper()\n",
    "        \n",
    "        string_retorno += string[i]   \n",
    "    \n",
    "    return string_retorno\n",
    "\n",
    "teste=\" 1aa   aa a   zzzz 1a  A    a\"\n",
    "# print(list(teste))\n",
    "# print(len(teste), len(solve(teste)), solve(teste))\n",
    "print(\"'\"+teste+\"'\")\n",
    "print(\"'\"+solve(teste)+\"'\")\n"
   ]
  },
  {
   "cell_type": "markdown",
   "metadata": {},
   "source": [
    "# Alphabet Rangoli"
   ]
  },
  {
   "cell_type": "code",
   "execution_count": 104,
   "metadata": {},
   "outputs": [
    {
     "name": "stdout",
     "output_type": "stream",
     "text": [
      "----------------------l----------------------\n",
      "--------------------l-k-l--------------------\n",
      "------------------l-k-j-k-l------------------\n",
      "----------------l-k-j-i-j-k-l----------------\n",
      "--------------l-k-j-i-h-i-j-k-l--------------\n",
      "------------l-k-j-i-h-g-h-i-j-k-l------------\n",
      "----------l-k-j-i-h-g-f-g-h-i-j-k-l----------\n",
      "--------l-k-j-i-h-g-f-e-f-g-h-i-j-k-l--------\n",
      "------l-k-j-i-h-g-f-e-d-e-f-g-h-i-j-k-l------\n",
      "----l-k-j-i-h-g-f-e-d-c-d-e-f-g-h-i-j-k-l----\n",
      "--l-k-j-i-h-g-f-e-d-c-b-c-d-e-f-g-h-i-j-k-l--\n",
      "l-k-j-i-h-g-f-e-d-c-b-a-b-c-d-e-f-g-h-i-j-k-l\n",
      "\n",
      ".....................\n"
     ]
    },
    {
     "data": {
      "text/plain": [
       "'----------------------l----------------------\\n--------------------l-k-l--------------------\\n------------------l-k-j-k-l------------------\\n----------------l-k-j-i-j-k-l----------------\\n--------------l-k-j-i-h-i-j-k-l--------------\\n------------l-k-j-i-h-g-h-i-j-k-l------------\\n----------l-k-j-i-h-g-f-g-h-i-j-k-l----------\\n--------l-k-j-i-h-g-f-e-f-g-h-i-j-k-l--------\\n------l-k-j-i-h-g-f-e-d-e-f-g-h-i-j-k-l------\\n----l-k-j-i-h-g-f-e-d-c-d-e-f-g-h-i-j-k-l----\\n--l-k-j-i-h-g-f-e-d-c-b-c-d-e-f-g-h-i-j-k-l--\\nl-k-j-i-h-g-f-e-d-c-b-a-b-c-d-e-f-g-h-i-j-k-l\\n'"
      ]
     },
     "execution_count": 104,
     "metadata": {},
     "output_type": "execute_result"
    }
   ],
   "source": [
    "def print_rangoli(size):\n",
    "    letters = sorted([chr(i+97) for i in range(size)],reverse=True)\n",
    "    letters.insert(0,'#')\n",
    "    lines = []\n",
    "    for i in range(1,len(letters)):\n",
    "        line = \"\"\n",
    "        for j in range(1,i+1,1):\n",
    "            line += (letters[j] + \"-\")\n",
    "        for j in range(1,i,1):\n",
    "            line += (letters[i-j] + \"-\")\n",
    "        line = line[:len(line)-1]\n",
    "        lines.append(line.center(size*4-3,'-'))\n",
    "        # print(line.center(size*4-3,'-'))\n",
    "    line_out = \"\"\n",
    "    # print(lines)\n",
    "    for i in range(0,len(lines)):\n",
    "        line_out = line_out + str(lines[i]) + \"\\n\" if i < size else \"\"\n",
    "        # print(line_out)\n",
    "    # for i in range(1,len(letters)):\n",
    "    #     line_out = line_out + str(lines[i]) + \"\\n\" if i < size else \"\"\n",
    "    print(line_out)\n",
    "    print('.....................')\n",
    "    return line_out\n",
    "\n",
    "n = 12\n",
    "print_rangoli(n)\n"
   ]
  }
 ],
 "metadata": {
  "interpreter": {
   "hash": "2224482022751a6b760c68699b9e9da193a8902a0d83755685929a4158dd5d89"
  },
  "kernelspec": {
   "display_name": "Python 3.8.9 64-bit",
   "language": "python",
   "name": "python3"
  },
  "language_info": {
   "codemirror_mode": {
    "name": "ipython",
    "version": 3
   },
   "file_extension": ".py",
   "mimetype": "text/x-python",
   "name": "python",
   "nbconvert_exporter": "python",
   "pygments_lexer": "ipython3",
   "version": "3.8.9"
  },
  "orig_nbformat": 4
 },
 "nbformat": 4,
 "nbformat_minor": 2
}
